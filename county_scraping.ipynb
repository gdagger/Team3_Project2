{
 "cells": [
  {
   "cell_type": "code",
   "execution_count": 127,
   "metadata": {},
   "outputs": [],
   "source": [
    "# Import relevant libraries\n",
    "from splinter import Browser\n",
    "from bs4 import BeautifulSoup as soup\n",
    "from webdriver_manager.chrome import ChromeDriverManager\n",
    "import matplotlib.pyplot as plt\n",
    "import pandas as pd\n",
    "from selenium import webdriver\n",
    "from selenium.webdriver.support.ui import Select\n",
    "from selenium.webdriver.common.by import By\n",
    "import time"
   ]
  },
  {
   "cell_type": "code",
   "execution_count": 130,
   "metadata": {},
   "outputs": [],
   "source": [
    "executable_path = {'executable_path': ChromeDriverManager().install()}\n",
    "# browser = Browser('chrome', **executable_path, headless=False)\n",
    "driver = webdriver.Chrome(**executable_path)\n",
    "\n",
    "url = 'https://www.statsamerica.org/CityCountyFinder/'\n",
    "\n",
    "driver.get(url)\n",
    "time.sleep(3)\n",
    "driver.switch_to.frame('place_bar')"
   ]
  },
  {
   "cell_type": "code",
   "execution_count": 133,
   "metadata": {},
   "outputs": [
    {
     "ename": "NoSuchElementException",
     "evalue": "Message: no such element: Unable to locate element: {\"method\":\"css selector\",\"selector\":\"[name=\"states\"]\"}\n  (Session info: chrome=108.0.5359.124)\n",
     "output_type": "error",
     "traceback": [
      "\u001b[0;31m---------------------------------------------------------------------------\u001b[0m",
      "\u001b[0;31mNoSuchElementException\u001b[0m                    Traceback (most recent call last)",
      "\u001b[0;32m/var/folders/f5/fmwr4j4s4gv2xp3_q6xpt02w0000gn/T/ipykernel_34627/22573822.py\u001b[0m in \u001b[0;36m<module>\u001b[0;34m\u001b[0m\n\u001b[0;32m----> 1\u001b[0;31m \u001b[0mdriver\u001b[0m\u001b[0;34m.\u001b[0m\u001b[0mfind_element\u001b[0m\u001b[0;34m(\u001b[0m\u001b[0mBy\u001b[0m\u001b[0;34m.\u001b[0m\u001b[0mNAME\u001b[0m\u001b[0;34m,\u001b[0m \u001b[0;34m'states'\u001b[0m\u001b[0;34m)\u001b[0m\u001b[0;34m\u001b[0m\u001b[0;34m\u001b[0m\u001b[0m\n\u001b[0m",
      "\u001b[0;32m~/Downloads/anaconda3/envs/PythonDataOne/lib/python3.7/site-packages/selenium/webdriver/remote/webdriver.py\u001b[0m in \u001b[0;36mfind_element\u001b[0;34m(self, by, value)\u001b[0m\n\u001b[1;32m    976\u001b[0m         return self.execute(Command.FIND_ELEMENT, {\n\u001b[1;32m    977\u001b[0m             \u001b[0;34m'using'\u001b[0m\u001b[0;34m:\u001b[0m \u001b[0mby\u001b[0m\u001b[0;34m,\u001b[0m\u001b[0;34m\u001b[0m\u001b[0;34m\u001b[0m\u001b[0m\n\u001b[0;32m--> 978\u001b[0;31m             'value': value})['value']\n\u001b[0m\u001b[1;32m    979\u001b[0m \u001b[0;34m\u001b[0m\u001b[0m\n\u001b[1;32m    980\u001b[0m     \u001b[0;32mdef\u001b[0m \u001b[0mfind_elements\u001b[0m\u001b[0;34m(\u001b[0m\u001b[0mself\u001b[0m\u001b[0;34m,\u001b[0m \u001b[0mby\u001b[0m\u001b[0;34m=\u001b[0m\u001b[0mBy\u001b[0m\u001b[0;34m.\u001b[0m\u001b[0mID\u001b[0m\u001b[0;34m,\u001b[0m \u001b[0mvalue\u001b[0m\u001b[0;34m=\u001b[0m\u001b[0;32mNone\u001b[0m\u001b[0;34m)\u001b[0m\u001b[0;34m:\u001b[0m\u001b[0;34m\u001b[0m\u001b[0;34m\u001b[0m\u001b[0m\n",
      "\u001b[0;32m~/Downloads/anaconda3/envs/PythonDataOne/lib/python3.7/site-packages/selenium/webdriver/remote/webdriver.py\u001b[0m in \u001b[0;36mexecute\u001b[0;34m(self, driver_command, params)\u001b[0m\n\u001b[1;32m    319\u001b[0m         \u001b[0mresponse\u001b[0m \u001b[0;34m=\u001b[0m \u001b[0mself\u001b[0m\u001b[0;34m.\u001b[0m\u001b[0mcommand_executor\u001b[0m\u001b[0;34m.\u001b[0m\u001b[0mexecute\u001b[0m\u001b[0;34m(\u001b[0m\u001b[0mdriver_command\u001b[0m\u001b[0;34m,\u001b[0m \u001b[0mparams\u001b[0m\u001b[0;34m)\u001b[0m\u001b[0;34m\u001b[0m\u001b[0;34m\u001b[0m\u001b[0m\n\u001b[1;32m    320\u001b[0m         \u001b[0;32mif\u001b[0m \u001b[0mresponse\u001b[0m\u001b[0;34m:\u001b[0m\u001b[0;34m\u001b[0m\u001b[0;34m\u001b[0m\u001b[0m\n\u001b[0;32m--> 321\u001b[0;31m             \u001b[0mself\u001b[0m\u001b[0;34m.\u001b[0m\u001b[0merror_handler\u001b[0m\u001b[0;34m.\u001b[0m\u001b[0mcheck_response\u001b[0m\u001b[0;34m(\u001b[0m\u001b[0mresponse\u001b[0m\u001b[0;34m)\u001b[0m\u001b[0;34m\u001b[0m\u001b[0;34m\u001b[0m\u001b[0m\n\u001b[0m\u001b[1;32m    322\u001b[0m             response['value'] = self._unwrap_value(\n\u001b[1;32m    323\u001b[0m                 response.get('value', None))\n",
      "\u001b[0;32m~/Downloads/anaconda3/envs/PythonDataOne/lib/python3.7/site-packages/selenium/webdriver/remote/errorhandler.py\u001b[0m in \u001b[0;36mcheck_response\u001b[0;34m(self, response)\u001b[0m\n\u001b[1;32m    240\u001b[0m                 \u001b[0malert_text\u001b[0m \u001b[0;34m=\u001b[0m \u001b[0mvalue\u001b[0m\u001b[0;34m[\u001b[0m\u001b[0;34m'alert'\u001b[0m\u001b[0;34m]\u001b[0m\u001b[0;34m.\u001b[0m\u001b[0mget\u001b[0m\u001b[0;34m(\u001b[0m\u001b[0;34m'text'\u001b[0m\u001b[0;34m)\u001b[0m\u001b[0;34m\u001b[0m\u001b[0;34m\u001b[0m\u001b[0m\n\u001b[1;32m    241\u001b[0m             \u001b[0;32mraise\u001b[0m \u001b[0mexception_class\u001b[0m\u001b[0;34m(\u001b[0m\u001b[0mmessage\u001b[0m\u001b[0;34m,\u001b[0m \u001b[0mscreen\u001b[0m\u001b[0;34m,\u001b[0m \u001b[0mstacktrace\u001b[0m\u001b[0;34m,\u001b[0m \u001b[0malert_text\u001b[0m\u001b[0;34m)\u001b[0m\u001b[0;34m\u001b[0m\u001b[0;34m\u001b[0m\u001b[0m\n\u001b[0;32m--> 242\u001b[0;31m         \u001b[0;32mraise\u001b[0m \u001b[0mexception_class\u001b[0m\u001b[0;34m(\u001b[0m\u001b[0mmessage\u001b[0m\u001b[0;34m,\u001b[0m \u001b[0mscreen\u001b[0m\u001b[0;34m,\u001b[0m \u001b[0mstacktrace\u001b[0m\u001b[0;34m)\u001b[0m\u001b[0;34m\u001b[0m\u001b[0;34m\u001b[0m\u001b[0m\n\u001b[0m\u001b[1;32m    243\u001b[0m \u001b[0;34m\u001b[0m\u001b[0m\n\u001b[1;32m    244\u001b[0m     \u001b[0;32mdef\u001b[0m \u001b[0m_value_or_default\u001b[0m\u001b[0;34m(\u001b[0m\u001b[0mself\u001b[0m\u001b[0;34m,\u001b[0m \u001b[0mobj\u001b[0m\u001b[0;34m,\u001b[0m \u001b[0mkey\u001b[0m\u001b[0;34m,\u001b[0m \u001b[0mdefault\u001b[0m\u001b[0;34m)\u001b[0m\u001b[0;34m:\u001b[0m\u001b[0;34m\u001b[0m\u001b[0;34m\u001b[0m\u001b[0m\n",
      "\u001b[0;31mNoSuchElementException\u001b[0m: Message: no such element: Unable to locate element: {\"method\":\"css selector\",\"selector\":\"[name=\"states\"]\"}\n  (Session info: chrome=108.0.5359.124)\n"
     ]
    }
   ],
   "source": [
    "driver.find_element(By.NAME, 'states')"
   ]
  },
  {
   "cell_type": "code",
   "execution_count": 78,
   "metadata": {},
   "outputs": [],
   "source": [
    "for x in el:\n",
    "    print(x)"
   ]
  },
  {
   "cell_type": "code",
   "execution_count": 79,
   "metadata": {},
   "outputs": [
    {
     "data": {
      "text/plain": [
       "[]"
      ]
     },
     "execution_count": 79,
     "metadata": {},
     "output_type": "execute_result"
    }
   ],
   "source": [
    "el"
   ]
  },
  {
   "cell_type": "code",
   "execution_count": 57,
   "metadata": {},
   "outputs": [
    {
     "ename": "TypeError",
     "evalue": "find_all() got multiple values for argument 'name'",
     "output_type": "error",
     "traceback": [
      "\u001b[0;31m---------------------------------------------------------------------------\u001b[0m",
      "\u001b[0;31mTypeError\u001b[0m                                 Traceback (most recent call last)",
      "\u001b[0;32m/var/folders/f5/fmwr4j4s4gv2xp3_q6xpt02w0000gn/T/ipykernel_34627/317383874.py\u001b[0m in \u001b[0;36m<module>\u001b[0;34m\u001b[0m\n\u001b[1;32m      1\u001b[0m \u001b[0msoup_object\u001b[0m \u001b[0;34m=\u001b[0m \u001b[0msoup\u001b[0m\u001b[0;34m(\u001b[0m\u001b[0mhtml\u001b[0m\u001b[0;34m,\u001b[0m \u001b[0;34m'html.parser'\u001b[0m\u001b[0;34m)\u001b[0m\u001b[0;34m\u001b[0m\u001b[0;34m\u001b[0m\u001b[0m\n\u001b[0;32m----> 2\u001b[0;31m \u001b[0;32mfor\u001b[0m \u001b[0mx\u001b[0m \u001b[0;32min\u001b[0m \u001b[0msoup_object\u001b[0m\u001b[0;34m.\u001b[0m\u001b[0mfind_all\u001b[0m\u001b[0;34m(\u001b[0m\u001b[0;34m'frame'\u001b[0m\u001b[0;34m,\u001b[0m \u001b[0mname\u001b[0m\u001b[0;34m=\u001b[0m\u001b[0;34m'place_bar'\u001b[0m\u001b[0;34m)\u001b[0m\u001b[0;34m:\u001b[0m\u001b[0;34m\u001b[0m\u001b[0;34m\u001b[0m\u001b[0m\n\u001b[0m\u001b[1;32m      3\u001b[0m     \u001b[0mprint\u001b[0m\u001b[0;34m(\u001b[0m\u001b[0mx\u001b[0m\u001b[0;34m)\u001b[0m\u001b[0;34m\u001b[0m\u001b[0;34m\u001b[0m\u001b[0m\n",
      "\u001b[0;31mTypeError\u001b[0m: find_all() got multiple values for argument 'name'"
     ]
    }
   ],
   "source": [
    "soup_object = soup(html, 'html.parser')\n",
    "for x in soup_object.find_all('frame', name='place_bar'):\n",
    "    print(x)"
   ]
  },
  {
   "cell_type": "code",
   "execution_count": 15,
   "metadata": {},
   "outputs": [],
   "source": [
    "# Visit the website\n",
    "browser.quit()\n",
    "browser.visit(url)"
   ]
  },
  {
   "cell_type": "code",
   "execution_count": 16,
   "metadata": {},
   "outputs": [],
   "source": [
    "# Create a Beautiful Soup Object\n",
    "html=browser.html\n",
    "\n",
    "soup_object = soup(html, 'html.parser')"
   ]
  },
  {
   "cell_type": "code",
   "execution_count": 17,
   "metadata": {},
   "outputs": [
    {
     "name": "stdout",
     "output_type": "stream",
     "text": [
      "<html lang=\"en\"><head>\n",
      "<!-- Google Tag Manager for StatsAmerica-->\n",
      "<script async=\"\" src=\"//cse.google.com/adsense/search/async-ads.js\"></script><script async=\"\" src=\"https://www.googletagmanager.com/gtag/js?id=G-QJRC742VH4&amp;l=dataLayer&amp;cx=c\" type=\"text/javascript\"></script><script async=\"\" src=\"https://www.google-analytics.com/analytics.js\" type=\"text/javascript\"></script><script async=\"\" src=\"https://www.googletagmanager.com/gtm.js?id=GTM-59KWX79\"></script><script>(function(w,d,s,l,i){w[l]=w[l]||[];w[l].push({'gtm.start':\n",
      "new Date().getTime(),event:'gtm.js'});var f=d.getElementsByTagName(s)[0],\n",
      "j=d.createElement(s),dl=l!='dataLayer'?'&l='+l:'';j.async=true;j.src=\n",
      "'https://www.googletagmanager.com/gtm.js?id='+i+dl;f.parentNode.insertBefore(j,f);\n",
      "})(window,document,'script','dataLayer','GTM-59KWX79');</script>\n",
      "<!-- End Google Tag Manager -->\n",
      "<meta charset=\"utf-8\"/><meta content=\"IE=edge\" http-equiv=\"X-UA-Compatible\"/><meta content=\"width=device-width, initial-scale=1\" name=\"viewport\"/><link href=\"/favicon.ico\" rel=\"shortcut icon\"/>\n",
      "<!-- Bootstrap core CSS -->\n",
      "<link href=\"//netdna.bootstrapcdn.com/bootstrap/3.3.6/css/bootstrap.min.css\" rel=\"stylesheet\"/>\n",
      "<!--Customized CSS-->\n",
      "<link href=\"https://use.typekit.net/jzb2vfk.css\" rel=\"stylesheet\"/><link href=\"https://www.statsamerica.org/css/StatsAmericaAllPages2021.css\" rel=\"stylesheet\" type=\"text/css\"/>\n",
      "<!-- HTML5 shim and Respond.js IE8 support of HTML5 elements and media queries -->\n",
      "<!--[if lt IE 9]>\n",
      "\t\t<script src=\"https://oss.maxcdn.com/libs/html5shiv/3.7.0/html5shiv.js\"></script>\n",
      "\t\t<script src=\"https://oss.maxcdn.com/libs/respond.js/1.4.2/respond.min.js\"></script>\n",
      "\t<![endif]-->\n",
      "<!--Jquery: Necessary for Bootstrap. Loaded in head so it is accessible to Isotope-->\n",
      "<script src=\"https://ajax.googleapis.com/ajax/libs/jquery/1.11.0/jquery.min.js\"></script>\n",
      "<meta content=\"Enter a city to find out the county (or counties) where it is located.\" name=\"Description\"/>\n",
      "<!--Twitter Cards-->\n",
      "<meta content=\"summary\" name=\"twitter:card\"/>\n",
      "<meta content=\"@IUibrc\" name=\"twitter:site\"/>\n",
      "<meta content=\"@IUibrc\" name=\"twitter:creator\"/>\n",
      "<meta content=\"City-to-County Finder\" property=\"og:title\"/>\n",
      "<meta content=\"Enter a city to find out the county (or counties) where it is located.\" property=\"og:description\"/>\n",
      "<meta content=\"https://www.statsamerica.org/images/city-county-finderTweet.png\" property=\"og:image\"/>\n",
      "<!--End Twitter Cards-->\n",
      "<title>\n",
      "\tCity-to-County Finder: StatsAmerica\n",
      "</title><script src=\"https://www.google.com/cse/static/element/f275a300093f201a/cse_element__en.js?usqp=CAI%3D\" type=\"text/javascript\"></script><link href=\"https://www.google.com/cse/static/element/f275a300093f201a/default+en.css\" rel=\"stylesheet\" type=\"text/css\"/><link href=\"https://www.google.com/cse/static/style/look/v4/minimalist.css\" rel=\"stylesheet\" type=\"text/css\"/><style type=\"text/css\">.gsc-control-cse{font-family:arial, sans-serif}.gsc-control-cse .gsc-table-result{font-family:arial, sans-serif}.gsc-refinementsGradient{background:linear-gradient(to left,rgba(255,255,255,1),rgba(255,255,255,0))}</style><style type=\"text/css\">.gscb_a{display:inline-block;font:27px/13px arial,sans-serif}.gsst_a .gscb_a{color:#a1b9ed;cursor:pointer}.gsst_a:hover .gscb_a,.gsst_a:focus .gscb_a{color:#36c}.gsst_a{display:inline-block}.gsst_a{cursor:pointer;padding:0 4px}.gsst_a:hover{text-decoration:none!important}.gsst_b{font-size:16px;padding:0 2px;position:relative;user-select:none;-webkit-user-select:none;white-space:nowrap}.gsst_e{vertical-align:middle;opacity:0.55;}.gsst_a:hover .gsst_e,.gsst_a:focus .gsst_e{opacity:0.72;}.gsst_a:active .gsst_e{opacity:1;}.gsst_f{background:white;text-align:left}.gsst_g{background-color:white;border:1px solid #ccc;border-top-color:#d9d9d9;box-shadow:0 2px 4px rgba(0,0,0,0.2);-webkit-box-shadow:0 2px 4px rgba(0,0,0,0.2);margin:-1px -3px;padding:0 6px}.gsst_h{background-color:white;height:1px;margin-bottom:-1px;position:relative;top:-1px}.gsib_a{width:100%;padding:4px 6px 0}.gsib_a,.gsib_b{vertical-align:top}.gssb_c{border:0;position:absolute;z-index:989}.gssb_e{border:1px solid #ccc;border-top-color:#d9d9d9;box-shadow:0 2px 4px rgba(0,0,0,0.2);-webkit-box-shadow:0 2px 4px rgba(0,0,0,0.2);cursor:default}.gssb_f{visibility:hidden;white-space:nowrap}.gssb_k{border:0;display:block;position:absolute;top:0;z-index:988}.gsdd_a{border:none!important}.gsq_a{padding:0}.gssb_a{padding:0 7px}.gssb_a,.gssb_a td{white-space:nowrap;overflow:hidden;line-height:22px}#gssb_b{font-size:11px;color:#36c;text-decoration:none}#gssb_b:hover{font-size:11px;color:#36c;text-decoration:underline}.gssb_g{text-align:center;padding:8px 0 7px;position:relative}.gssb_h{font-size:15px;height:28px;margin:0.2em;-webkit-appearance:button}.gssb_i{background:#eee}.gss_ifl{visibility:hidden;padding-left:5px}.gssb_i .gss_ifl{visibility:visible}a.gssb_j{font-size:13px;color:#36c;text-decoration:none;line-height:100%}a.gssb_j:hover{text-decoration:underline}.gssb_l{height:1px;background-color:#e5e5e5}.gssb_m{color:#000;background:#fff}.gssb_a{padding:0 9px}.gsib_a{padding:5px 9px 4px 9px}.gscb_a{line-height:27px}.gssb_e{border:0}.gssb_l{margin:5px 0}input.gsc-input::-webkit-input-placeholder{font-size:14px}input.gsc-input:-moz-placeholder{font-size:14px}input.gsc-input::-moz-placeholder{font-size:14px}input.gsc-input:-ms-input-placeholder{font-size:14px}input.gsc-input:focus::-webkit-input-placeholder{color:transparent}input.gsc-input:focus:-moz-placeholder{color:transparent}input.gsc-input:focus::-moz-placeholder{color:transparent}input.gsc-input:focus:-ms-input-placeholder{color:transparent}.gssb_c .gsc-completion-container{position:static}.gssb_c{z-index:5000}.gsc-completion-container table{background:transparent;font-size:inherit;font-family:inherit}.gssb_c > tbody > tr,.gssb_c > tbody > tr > td,.gssb_d,.gssb_d > tbody > tr,.gssb_d > tbody > tr > td,.gssb_e,.gssb_e > tbody > tr,.gssb_e > tbody > tr > td{padding:0;margin:0;border:0}.gssb_a table,.gssb_a table tr,.gssb_a table tr td{padding:0;margin:0;border:0}</style></head>\n",
      "<body>\n",
      "<!-- Google Tag Manager (noscript) for StatsAmerica-->\n",
      "<noscript><iframe height=\"0\" src=\"https://www.googletagmanager.com/ns.html?id=GTM-59KWX79\" style=\"display:none;visibility:hidden\" width=\"0\"></iframe></noscript>\n",
      "<!-- End Google Tag Manager (noscript) -->\n",
      "<form action=\"./\" id=\"form1\" method=\"post\">\n",
      "<div class=\"aspNetHidden\">\n",
      "<input id=\"__VIEWSTATE\" name=\"__VIEWSTATE\" type=\"hidden\" value=\"/wEPDwUKMjEwNDQyMTMxM2Rk9rImGiDlNEaokyVOk2o/6i/Ppq8=\"/>\n",
      "</div>\n",
      "<div class=\"aspNetHidden\">\n",
      "<input id=\"__VIEWSTATEGENERATOR\" name=\"__VIEWSTATEGENERATOR\" type=\"hidden\" value=\"C64E9B69\"/>\n",
      "</div>\n",
      "<header>\n",
      "<div class=\"container-fluid\">\n",
      "<div class=\"row\">\n",
      "<div class=\"col-sm-12 col-md-12\">\n",
      "<nav class=\"navbar navbar-default\" id=\"site-nav\">\n",
      "<div id=\"skip-nav\"><a href=\"#main\">Skip to main content</a></div>\n",
      "<div class=\"container-fluid\">\n",
      "<!-- Brand and toggle get grouped for better mobile display -->\n",
      "<div class=\"navbar-header\">\n",
      "<button aria-expanded=\"false\" class=\"navbar-toggle collapsed\" data-target=\"#site-nav-collapse\" data-toggle=\"collapse\" type=\"button\">\n",
      "<span class=\"sr-only\">Toggle navigation</span>\n",
      "<span class=\"icon-bar\"></span>\n",
      "<span class=\"icon-bar\"></span>\n",
      "<span class=\"icon-bar\"></span>\n",
      "</button>\n",
      "<a class=\"navbar-brand\" href=\"https://www.statsamerica.org/Default.aspx\"><img alt=\"StatsAmerica\" class=\"img-responsive\" src=\"/images/logos/SA_logo_389x50.png\" style=\"margin-left:60px;\"/></a>\n",
      "<a class=\"navbar-brand visible-md-block visible-lg-block\" href=\"https://www.eda.gov\"><img alt=\"U.S. Economic Development Administration\" class=\"img-responsive\" src=\"/images/logos/edaLogoWordMark-112x35.png\" style=\"margin-top:10px; margin-left: 50px; margin-bottom:-20px;\"/></a>\n",
      "</div>\n",
      "<!-- Collect the nav links, forms, and other content for toggling -->\n",
      "<div class=\"collapse navbar-collapse navbar-right\" id=\"site-nav-collapse\">\n",
      "<p class=\"hidden-md hidden-lg\" style=\"font-size:12px; color:#013A81; font-weight:bold; \">Supported by the  <a href=\"https://www.eda.gov\">U.S. Economic Development Administration</a></p>\n",
      "<!--<p class=\"navbar-text\" id=\"tagline\">Your Portal to U.S. Data</p> -->\n",
      "<ul class=\"nav navbar-nav\">\n",
      "<li><a aria-label=\"About StatsAmerica\" href=\"https://www.statsamerica.org/About.aspx\">About</a></li>\n",
      "<li class=\"dropdown\">\n",
      "<a aria-expanded=\"false\" aria-haspopup=\"true\" class=\"dropdown-toggle\" data-toggle=\"dropdown\" href=\"#\" role=\"button\">Tools <span class=\"caret\"></span></a>\n",
      "<ul class=\"dropdown-menu\">\n",
      "<li><a href=\"https://www.statsamerica.org/innovation/\">Innovation Intelligence</a></li>\n",
      "<li class=\"dropdown dropdown-submenu\"><a aria-expanded=\"false\" aria-haspopup=\"true\" class=\"dropdown-toggle\" data-toggle=\"dropdown\" href=\"#\" role=\"button\">Regional Profiles</a>\n",
      "<ul class=\"dropdown-menu\">\n",
      "<li><a href=\"https://www.statsamerica.org/anywhere/\">Anywhere USA Profile</a></li>\n",
      "<li><a href=\"https://www.statsamerica.org/USCP/\">County Profile</a></li>\n",
      "<li><a href=\"https://www.statsamerica.org/sip/\">State Profile</a></li>\n",
      "<li><a href=\"https://www.statsamerica.org/town/\">Town Profile</a></li>\n",
      "</ul><!-- dropdown submenu --></li>\n",
      "<li class=\"dropdown dropdown-submenu\">\n",
      "<a aria-expanded=\"false\" aria-haspopup=\"true\" class=\"dropdown-toggle\" data-toggle=\"dropdown\" href=\"https://www.statsamerica.org/specialized-tools.aspx\" role=\"button\">Specialized Tools</a>\n",
      "<ul class=\"dropdown-menu\">\n",
      "<li><a href=\"https://ctil.iu.edu/projects/apred-landing/\">APRED</a></li>\n",
      "<li><a href=\"https://www.statsamerica.org/radius/big.aspx\">Big Radius Tool</a></li>\n",
      "<li><a href=\"https://www.statsamerica.org/ceds/Default.aspx\">CEDS Resources</a></li>\n",
      "<li><a href=\"https://www.statsamerica.org/CityCountyFinder/Default.aspx\">City-to-County Finder</a></li>\n",
      "<li><a href=\"https://www.statsamerica.org/distress/\">Measuring Distress</a></li>\n",
      "<li><a href=\"https://www.statsamerica.org/regions/\">The Regionizer</a></li>\n",
      "<li><a href=\"https://www.statsamerica.org/opportunity/\">USA Opportunity Zones</a></li>\n",
      "</ul><!-- dropdown submenu --></li>\n",
      "<li class=\"dropdown dropdown-submenu\">\n",
      "<a aria-expanded=\"false\" aria-haspopup=\"true\" class=\"dropdown-toggle\" data-toggle=\"dropdown\" href=\"#\" role=\"button\"> <span class=\"nav-label\">Other Resources</span></a>\n",
      "<ul class=\"dropdown-menu\">\n",
      "<li><a href=\"https://www.statsamerica.org/Covid19.aspx\">COVID-19 Resources</a></li>\n",
      "<li><a href=\"https://www.statsamerica.org/geography-tools.aspx\">Geographic Resources</a></li>\n",
      "<li><a href=\"https://www.statsamerica.org/research/\">Research</a></li>\n",
      "<li class=\"divider\" role=\"separator\"></li>\n",
      "<li><a href=\"https://cbb.census.gov/rae/#\">Census Business Builder</a></li>\n",
      "<li><a href=\"https://onthemap.ces.census.gov/\">OnTheMap</a></li>\n",
      "<li><a href=\"https://www.anl.gov/national-economic-resilience-data-explorer-nerde\">National Economic Resilience Data Explorer</a></li>\n",
      "<li><a href=\"https://qwiexplorer.ces.census.gov/static/explore.html#x=0&amp;g=0\">QWI Explorer</a></li>\n",
      "<li><a href=\"https://clustermapping.us/\">U.S. Cluster Mapping</a></li>\n",
      "</ul><!-- dropdown submenu --></li>\n",
      "</ul><!-- dropdown menu -->\n",
      "</li><!-- dropdown -->\n",
      "</ul> <!-- navbar nav -->\n",
      "<ul class=\"nav navbar-nav\" style=\"margin-right: 5em;\">\n",
      "<li><a href=\"https://www.statsamerica.org/downloads/default.aspx\">Downloads</a></li>\n",
      "<li><a href=\"https://www.statsamerica.org/guides/default.aspx\">Guides</a></li>\n",
      "<li><a href=\"https://www.statsamerica.org/Training/default.aspx\">Webinars</a></li>\n",
      "<li><a href=\"https://www.statsamerica.org/Contact.aspx\">Contact</a></li>\n",
      "</ul>\n",
      "<div class=\"pull-right\" id=\"nav-search\" style=\"margin-left: 1em; margin-top: 10px;\">\n",
      "<script async=\"\" src=\"https://cse.google.com/cse.js?cx=011796417940821270163:jd5dkte5jam\"></script>\n",
      "<div id=\"___gcse_0\"><div class=\"gsc-control-searchbox-only gsc-control-searchbox-only-en\" dir=\"ltr\"><form accept-charset=\"utf-8\" class=\"gsc-search-box gsc-search-box-tools\"><table cellpadding=\"0\" cellspacing=\"0\" class=\"gsc-search-box\" role=\"presentation\"><tbody><tr><td class=\"gsc-input\"><div class=\"gsc-input-box\" id=\"gsc-iw-id1\"><table cellpadding=\"0\" cellspacing=\"0\" class=\"gstl_50 gsc-input\" id=\"gs_id50\" role=\"presentation\" style=\"width: 100%; padding: 0px;\"><tbody><tr><td class=\"gsib_a\" id=\"gs_tti50\"><input aria-label=\"search\" autocomplete=\"off\" class=\"gsc-input\" dir=\"ltr\" id=\"gsc-i-id1\" name=\"search\" size=\"10\" spellcheck=\"false\" style='width: 100%; padding: 0px; border: none; margin: -0.0625em 0px 0px; height: 1.25em; background: url(\"https://www.google.com/cse/static/images/1x/en/branding.png\") left center no-repeat rgb(255, 255, 255); outline: none;' title=\"search\" type=\"text\"/></td><td class=\"gsib_b\"><div class=\"gsst_b\" dir=\"ltr\" id=\"gs_st50\"><a class=\"gsst_a\" href=\"javascript:void(0)\" role=\"button\" style=\"display: none;\" title=\"Clear search box\"><span aria-hidden=\"true\" class=\"gscb_a\" id=\"gs_cb50\">×</span></a></div></td></tr></tbody></table></div></td><td class=\"gsc-search-button\"><button class=\"gsc-search-button gsc-search-button-v2\"><svg height=\"13\" viewbox=\"0 0 13 13\" width=\"13\"><title>search</title><path d=\"m4.8495 7.8226c0.82666 0 1.5262-0.29146 2.0985-0.87438 0.57232-0.58292 0.86378-1.2877 0.87438-2.1144 0.010599-0.82666-0.28086-1.5262-0.87438-2.0985-0.59352-0.57232-1.293-0.86378-2.0985-0.87438-0.8055-0.010599-1.5103 0.28086-2.1144 0.87438-0.60414 0.59352-0.8956 1.293-0.87438 2.0985 0.021197 0.8055 0.31266 1.5103 0.87438 2.1144 0.56172 0.60414 1.2665 0.8956 2.1144 0.87438zm4.4695 0.2115 3.681 3.6819-1.259 1.284-3.6817-3.7 0.0019784-0.69479-0.090043-0.098846c-0.87973 0.76087-1.92 1.1413-3.1207 1.1413-1.3553 0-2.5025-0.46363-3.4417-1.3909s-1.4088-2.0686-1.4088-3.4239c0-1.3553 0.4696-2.4966 1.4088-3.4239 0.9392-0.92727 2.0864-1.3969 3.4417-1.4088 1.3553-0.011889 2.4906 0.45771 3.406 1.4088 0.9154 0.95107 1.379 2.0924 1.3909 3.4239 0 1.2126-0.38043 2.2588-1.1413 3.1385l0.098834 0.090049z\"></path></svg></button></td><td class=\"gsc-clear-button\"><div class=\"gsc-clear-button\" title=\"clear results\"> </div></td></tr></tbody></table></form></div></div>\n",
      "</div>\n",
      "</div><!-- /.navbar-collapse -->\n",
      "</div><!-- /.container-fluid -->\n",
      "</nav>\n",
      "</div>\n",
      "</div><!--End row--></div><!--End container-fluid-->\n",
      "</header>\n",
      "<div class=\"container-fluid\" id=\"main\">\n",
      "<!--ALERT-->\n",
      "<!--<div class=\"bg-danger\" style=\"padding: 15px;\"><strong style=\"color: #990000\">Notice to Users</strong><br/>\n",
      "Maintenance is scheduled for Monday morning, October 26th. This upgrade should not affect any of your work on this site.\n",
      "</div>-->\n",
      "<!--END ALERT-->\n",
      "<article>\n",
      "<div class=\"container\">\n",
      "<h1>City-to-County Finder</h1>\n",
      "<!--This iframe src is solely for StatsAmerica and can be styled as such even though it is on the STATS Indiana server-->\n",
      "<iframe height=\"600\" name=\"place_bar\" src=\"https://www.stats.indiana.edu/uspr/b/place_frame.html\" style=\"border: none;\" width=\"960\"></iframe>\n",
      "</div>\n",
      "</article>\n",
      "<div class=\"row-fluid\">\n",
      "</div>\n",
      "<!--Questions/Feedback section-->\n",
      "<div class=\"row band\" id=\"footer-feedback\">\n",
      "<h2>Questions or Feedback?</h2>\n",
      "<a class=\"btn btn-lg\" href=\"https://www.statsamerica.org/Contact.aspx\" id=\"footer-contact-btn\" role=\"button\">Contact us</a>\n",
      "<!-- Begin Mailchimp Signup Form: IMPORTANT: The default Mailchimp code doesn't work with ASP.NET, so had to modify based on this troubleshooting document: https://mailchimp.com/help/troubleshooting-the-embedded-signup-form/-->\n",
      "<link href=\"//cdn-images.mailchimp.com/embedcode/horizontal-slim-10_7.css\" rel=\"stylesheet\" type=\"text/css\"/>\n",
      "<div id=\"mc_embed_signup\">\n",
      "<div id=\"mc_embed_signup_scroll\">\n",
      "<input aria-label=\"Email\" class=\"email\" id=\"mce-EMAIL\" name=\"EMAIL\" placeholder=\"Email\" type=\"email\" value=\"\"/>\n",
      "<!-- real people should not fill this in and expect good things - do not remove this or risk form bot signups-->\n",
      "<div aria-hidden=\"true\" style=\"position: absolute; left: -5000px;\">\n",
      "<input name=\"b_0e705751ac3a26ccdd1230e29_87e8a946ce\" tabindex=\"-1\" type=\"text\" value=\"\"/>\n",
      "</div>\n",
      "<div class=\"clear\">\n",
      "<input class=\"button\" id=\"mc-embedded-subscribe\" name=\"subscribe\" onclick=\"this.form.action='https://statsamerica.us1.list-manage.com/subscribe/post?u=0e705751ac3a26ccdd1230e29&amp;id=87e8a946ce';this.form.submit();\" type=\"button\" value=\"Subscribe to newsletter\"/>\n",
      "</div>\n",
      "</div>\n",
      "</div>\n",
      "<!--End mc_embed_signup-->\n",
      "</div>\n",
      "<div class=\"container\">\n",
      "<footer>\n",
      "<div id=\"footerNav\">\n",
      "<ul>\n",
      "<li><a href=\"https://www.statsamerica.org/Default.aspx\">Home</a></li>\n",
      "<li><a aria-label=\"About StatsAmerica\" href=\"https://www.statsamerica.org/About.aspx\">About</a></li>\n",
      "<li><a href=\"https://www.statsamerica.org/New.aspx\">What's New?</a></li>\n",
      "<li><a href=\"https://www.statsamerica.org/Contact.aspx\">Contact Us</a></li>\n",
      "<li><a href=\"https://www.statsamerica.org/List.aspx\">Sitemap</a></li>\n",
      "<li><a href=\"https://www.statsamerica.org/PrivacyNotice.aspx\">Privacy Notice</a></li>\n",
      "</ul>\n",
      "</div>\n",
      "<a aria-label=\"EDA website\" href=\"https://www.eda.gov\"><img alt=\"EDA logo\" id=\"footerLogo\" src=\"/images/edaLogoWordMark-trans131x50.png\"/></a>\n",
      "<p>StatsAmerica is a service of the <a href=\"https://ibrc.kelley.iu.edu/\">Indiana Business Research Center</a> at Indiana University's Kelley School of Business. This initiative is funded in part by the U.S. Commerce Department's <a href=\"https://www.eda.gov/\">Economic  Development Administration</a>.</p>\n",
      "</footer>\n",
      "</div><!--End container-->\n",
      "</div><!--End container-fluid-->\n",
      "<!-- Bootstrap Core JavaScript: Placed at the end of the document so the pages load faster -->\n",
      "<script src=\"//netdna.bootstrapcdn.com/bootstrap/3.1.1/js/bootstrap.min.js\"></script>\n",
      "</form>\n",
      "<table cellpadding=\"0\" cellspacing=\"0\" class=\"gstl_50 gssb_c\" role=\"presentation\" style=\"width: 160px; display: none; top: 116px; left: 1167px; position: absolute;\"><tbody><tr><td class=\"gssb_f\"></td><td class=\"gssb_e\" style=\"width: 100%;\"></td></tr></tbody></table></body></html>\n"
     ]
    }
   ],
   "source": [
    "for x in soup_object:\n",
    "    print(x)"
   ]
  },
  {
   "cell_type": "code",
   "execution_count": 11,
   "metadata": {},
   "outputs": [],
   "source": [
    "states_dropdown = soup_object.find_all('select')\n",
    "\n",
    "for x in states_dropdown:\n",
    "    print(x)"
   ]
  }
 ],
 "metadata": {
  "kernelspec": {
   "display_name": "PythonDataOne",
   "language": "python",
   "name": "python3"
  },
  "language_info": {
   "codemirror_mode": {
    "name": "ipython",
    "version": 3
   },
   "file_extension": ".py",
   "mimetype": "text/x-python",
   "name": "python",
   "nbconvert_exporter": "python",
   "pygments_lexer": "ipython3",
   "version": "3.7.7"
  },
  "orig_nbformat": 4,
  "vscode": {
   "interpreter": {
    "hash": "e247b9454e4c690f05a6394f0637915298e80ca65991b01e9ad2aec6a6d4c020"
   }
  }
 },
 "nbformat": 4,
 "nbformat_minor": 2
}
